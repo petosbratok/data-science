{
  "nbformat": 4,
  "nbformat_minor": 0,
  "metadata": {
    "colab": {
      "provenance": [],
      "collapsed_sections": []
    },
    "kernelspec": {
      "name": "python3",
      "display_name": "Python 3"
    },
    "language_info": {
      "name": "python"
    }
  },
  "cells": [
    {
      "cell_type": "code",
      "execution_count": 1,
      "metadata": {
        "id": "cjXepfZVhSIs"
      },
      "outputs": [],
      "source": [
        "import numpy as np\n",
        "import pandas as pd\n",
        "import matplotlib.pyplot as plt"
      ]
    },
    {
      "cell_type": "code",
      "source": [
        "df = pd.read_csv('Priziv1volna.txt', sep='\\t')"
      ],
      "metadata": {
        "id": "tPuWfLTViLx3"
      },
      "execution_count": 69,
      "outputs": []
    },
    {
      "cell_type": "markdown",
      "source": [
        "Mobilization data consists of 306 thousand people"
      ],
      "metadata": {
        "id": "vALhES-o4RKJ"
      }
    },
    {
      "cell_type": "code",
      "source": [
        "df.shape"
      ],
      "metadata": {
        "colab": {
          "base_uri": "https://localhost:8080/"
        },
        "id": "YlNRF87VkSO4",
        "outputId": "9f04d357-7353-426b-ebeb-a8361e0be3d1"
      },
      "execution_count": 70,
      "outputs": [
        {
          "output_type": "execute_result",
          "data": {
            "text/plain": [
              "(305925, 5)"
            ]
          },
          "metadata": {},
          "execution_count": 70
        }
      ]
    },
    {
      "cell_type": "markdown",
      "source": [
        "Filtering out birth year"
      ],
      "metadata": {
        "id": "7t3EaqrX4dt-"
      }
    },
    {
      "cell_type": "code",
      "source": [
        "df['YEAR'] = df['ДАТА_РОЖДЕНИЯ'].apply(lambda x: int(x[-4:]))"
      ],
      "metadata": {
        "id": "111eVj3ltlJw"
      },
      "execution_count": 89,
      "outputs": []
    },
    {
      "cell_type": "code",
      "source": [
        "df.head()"
      ],
      "metadata": {
        "colab": {
          "base_uri": "https://localhost:8080/",
          "height": 337
        },
        "id": "5pvUFJQquLt0",
        "outputId": "035d7a6b-3a2f-4a13-f720-77ee0e10ea57"
      },
      "execution_count": 90,
      "outputs": [
        {
          "output_type": "execute_result",
          "data": {
            "text/plain": [
              "                         ИМЯ ДАТА_РОЖДЕНИЯ  \\\n",
              "0  ААРИНОЛА ДЖЕССЕ ПЕТЕРОВИЧ     1.10.1994   \n",
              "1  АБАБИЙ ВАСИЛИЙ АЛЕКСЕЕВИЧ     14.1.1997   \n",
              "2     АБАБИЙ РОМАН АРТУРОВИЧ     15.5.1997   \n",
              "3   АБАБИН ЯРОСЛАВ ДАНИЛОВИЧ     17.5.1997   \n",
              "4  АБАБКИН СЕРГЕЙ НИКОЛАЕВИЧ      7.6.1991   \n",
              "\n",
              "                                               АДРЕС     ПАСПОРТ  \\\n",
              "0  Г. МОСКВА, УЛ. ДОКУКИНА, ДОМ 9, КОРПУС 1, КВАР...  4510243117   \n",
              "1  Г. САНКТ-ПЕТЕРБУРГ, П. СТРЕЛЬНА, Ш. САНКТ-ПЕТЕ...  3411009134   \n",
              "2  ОБЛ. НИЖЕГОРОДСКАЯ, Г. НИЖНИЙ НОВГОРОД, ПЕР. 2...  2217682637   \n",
              "3               МОСКВА, КРЫЛАТСКИЕ ХОЛМЫ Д 21 КВ 191  4518270246   \n",
              "4           Г. САНКТ-ПЕТЕРБУРГ, УЛ. ДОБЛЕСТИ, ДОМ 22   411117055   \n",
              "\n",
              "                                               ОТДЕЛ  YEAR  \n",
              "0  ОТДЕЛЕНИЕ УФМС РОССИИ ПО ГОР. МОСКВЕ ПО РАЙОНУ...  1994  \n",
              "1  ТЕРРИТОРИАЛЬНЫЙ ПУНКТ УФМС РОССИИ ПО КОСТРОМСК...  1997  \n",
              "2  ОТДЕЛ УФМС РОССИИ ПО НИЖЕГОРОДСКОЙ ОБЛ. В ПРИО...  1997  \n",
              "3  ОТДЕЛ УФМС РОССИИ ПО Г. МОСКВЕ ПО РАЙОНУ КРЫЛА...  1997  \n",
              "4  ОТДЕЛ УФМС РОССИИ ПО КРАСНОЯРСКОМУ КРАЮ В Г. Н...  1991  "
            ],
            "text/html": [
              "\n",
              "  <div id=\"df-d24b3366-51a9-401f-bec5-2064c9dec47f\">\n",
              "    <div class=\"colab-df-container\">\n",
              "      <div>\n",
              "<style scoped>\n",
              "    .dataframe tbody tr th:only-of-type {\n",
              "        vertical-align: middle;\n",
              "    }\n",
              "\n",
              "    .dataframe tbody tr th {\n",
              "        vertical-align: top;\n",
              "    }\n",
              "\n",
              "    .dataframe thead th {\n",
              "        text-align: right;\n",
              "    }\n",
              "</style>\n",
              "<table border=\"1\" class=\"dataframe\">\n",
              "  <thead>\n",
              "    <tr style=\"text-align: right;\">\n",
              "      <th></th>\n",
              "      <th>ИМЯ</th>\n",
              "      <th>ДАТА_РОЖДЕНИЯ</th>\n",
              "      <th>АДРЕС</th>\n",
              "      <th>ПАСПОРТ</th>\n",
              "      <th>ОТДЕЛ</th>\n",
              "      <th>YEAR</th>\n",
              "    </tr>\n",
              "  </thead>\n",
              "  <tbody>\n",
              "    <tr>\n",
              "      <th>0</th>\n",
              "      <td>ААРИНОЛА ДЖЕССЕ ПЕТЕРОВИЧ</td>\n",
              "      <td>1.10.1994</td>\n",
              "      <td>Г. МОСКВА, УЛ. ДОКУКИНА, ДОМ 9, КОРПУС 1, КВАР...</td>\n",
              "      <td>4510243117</td>\n",
              "      <td>ОТДЕЛЕНИЕ УФМС РОССИИ ПО ГОР. МОСКВЕ ПО РАЙОНУ...</td>\n",
              "      <td>1994</td>\n",
              "    </tr>\n",
              "    <tr>\n",
              "      <th>1</th>\n",
              "      <td>АБАБИЙ ВАСИЛИЙ АЛЕКСЕЕВИЧ</td>\n",
              "      <td>14.1.1997</td>\n",
              "      <td>Г. САНКТ-ПЕТЕРБУРГ, П. СТРЕЛЬНА, Ш. САНКТ-ПЕТЕ...</td>\n",
              "      <td>3411009134</td>\n",
              "      <td>ТЕРРИТОРИАЛЬНЫЙ ПУНКТ УФМС РОССИИ ПО КОСТРОМСК...</td>\n",
              "      <td>1997</td>\n",
              "    </tr>\n",
              "    <tr>\n",
              "      <th>2</th>\n",
              "      <td>АБАБИЙ РОМАН АРТУРОВИЧ</td>\n",
              "      <td>15.5.1997</td>\n",
              "      <td>ОБЛ. НИЖЕГОРОДСКАЯ, Г. НИЖНИЙ НОВГОРОД, ПЕР. 2...</td>\n",
              "      <td>2217682637</td>\n",
              "      <td>ОТДЕЛ УФМС РОССИИ ПО НИЖЕГОРОДСКОЙ ОБЛ. В ПРИО...</td>\n",
              "      <td>1997</td>\n",
              "    </tr>\n",
              "    <tr>\n",
              "      <th>3</th>\n",
              "      <td>АБАБИН ЯРОСЛАВ ДАНИЛОВИЧ</td>\n",
              "      <td>17.5.1997</td>\n",
              "      <td>МОСКВА, КРЫЛАТСКИЕ ХОЛМЫ Д 21 КВ 191</td>\n",
              "      <td>4518270246</td>\n",
              "      <td>ОТДЕЛ УФМС РОССИИ ПО Г. МОСКВЕ ПО РАЙОНУ КРЫЛА...</td>\n",
              "      <td>1997</td>\n",
              "    </tr>\n",
              "    <tr>\n",
              "      <th>4</th>\n",
              "      <td>АБАБКИН СЕРГЕЙ НИКОЛАЕВИЧ</td>\n",
              "      <td>7.6.1991</td>\n",
              "      <td>Г. САНКТ-ПЕТЕРБУРГ, УЛ. ДОБЛЕСТИ, ДОМ 22</td>\n",
              "      <td>411117055</td>\n",
              "      <td>ОТДЕЛ УФМС РОССИИ ПО КРАСНОЯРСКОМУ КРАЮ В Г. Н...</td>\n",
              "      <td>1991</td>\n",
              "    </tr>\n",
              "  </tbody>\n",
              "</table>\n",
              "</div>\n",
              "      <button class=\"colab-df-convert\" onclick=\"convertToInteractive('df-d24b3366-51a9-401f-bec5-2064c9dec47f')\"\n",
              "              title=\"Convert this dataframe to an interactive table.\"\n",
              "              style=\"display:none;\">\n",
              "        \n",
              "  <svg xmlns=\"http://www.w3.org/2000/svg\" height=\"24px\"viewBox=\"0 0 24 24\"\n",
              "       width=\"24px\">\n",
              "    <path d=\"M0 0h24v24H0V0z\" fill=\"none\"/>\n",
              "    <path d=\"M18.56 5.44l.94 2.06.94-2.06 2.06-.94-2.06-.94-.94-2.06-.94 2.06-2.06.94zm-11 1L8.5 8.5l.94-2.06 2.06-.94-2.06-.94L8.5 2.5l-.94 2.06-2.06.94zm10 10l.94 2.06.94-2.06 2.06-.94-2.06-.94-.94-2.06-.94 2.06-2.06.94z\"/><path d=\"M17.41 7.96l-1.37-1.37c-.4-.4-.92-.59-1.43-.59-.52 0-1.04.2-1.43.59L10.3 9.45l-7.72 7.72c-.78.78-.78 2.05 0 2.83L4 21.41c.39.39.9.59 1.41.59.51 0 1.02-.2 1.41-.59l7.78-7.78 2.81-2.81c.8-.78.8-2.07 0-2.86zM5.41 20L4 18.59l7.72-7.72 1.47 1.35L5.41 20z\"/>\n",
              "  </svg>\n",
              "      </button>\n",
              "      \n",
              "  <style>\n",
              "    .colab-df-container {\n",
              "      display:flex;\n",
              "      flex-wrap:wrap;\n",
              "      gap: 12px;\n",
              "    }\n",
              "\n",
              "    .colab-df-convert {\n",
              "      background-color: #E8F0FE;\n",
              "      border: none;\n",
              "      border-radius: 50%;\n",
              "      cursor: pointer;\n",
              "      display: none;\n",
              "      fill: #1967D2;\n",
              "      height: 32px;\n",
              "      padding: 0 0 0 0;\n",
              "      width: 32px;\n",
              "    }\n",
              "\n",
              "    .colab-df-convert:hover {\n",
              "      background-color: #E2EBFA;\n",
              "      box-shadow: 0px 1px 2px rgba(60, 64, 67, 0.3), 0px 1px 3px 1px rgba(60, 64, 67, 0.15);\n",
              "      fill: #174EA6;\n",
              "    }\n",
              "\n",
              "    [theme=dark] .colab-df-convert {\n",
              "      background-color: #3B4455;\n",
              "      fill: #D2E3FC;\n",
              "    }\n",
              "\n",
              "    [theme=dark] .colab-df-convert:hover {\n",
              "      background-color: #434B5C;\n",
              "      box-shadow: 0px 1px 3px 1px rgba(0, 0, 0, 0.15);\n",
              "      filter: drop-shadow(0px 1px 2px rgba(0, 0, 0, 0.3));\n",
              "      fill: #FFFFFF;\n",
              "    }\n",
              "  </style>\n",
              "\n",
              "      <script>\n",
              "        const buttonEl =\n",
              "          document.querySelector('#df-d24b3366-51a9-401f-bec5-2064c9dec47f button.colab-df-convert');\n",
              "        buttonEl.style.display =\n",
              "          google.colab.kernel.accessAllowed ? 'block' : 'none';\n",
              "\n",
              "        async function convertToInteractive(key) {\n",
              "          const element = document.querySelector('#df-d24b3366-51a9-401f-bec5-2064c9dec47f');\n",
              "          const dataTable =\n",
              "            await google.colab.kernel.invokeFunction('convertToInteractive',\n",
              "                                                     [key], {});\n",
              "          if (!dataTable) return;\n",
              "\n",
              "          const docLinkHtml = 'Like what you see? Visit the ' +\n",
              "            '<a target=\"_blank\" href=https://colab.research.google.com/notebooks/data_table.ipynb>data table notebook</a>'\n",
              "            + ' to learn more about interactive tables.';\n",
              "          element.innerHTML = '';\n",
              "          dataTable['output_type'] = 'display_data';\n",
              "          await google.colab.output.renderOutput(dataTable, element);\n",
              "          const docLink = document.createElement('div');\n",
              "          docLink.innerHTML = docLinkHtml;\n",
              "          element.appendChild(docLink);\n",
              "        }\n",
              "      </script>\n",
              "    </div>\n",
              "  </div>\n",
              "  "
            ]
          },
          "metadata": {},
          "execution_count": 90
        }
      ]
    },
    {
      "cell_type": "code",
      "source": [
        "year_counts = df['YEAR'].value_counts()"
      ],
      "metadata": {
        "id": "S73InJIovJwi"
      },
      "execution_count": 93,
      "outputs": []
    },
    {
      "cell_type": "markdown",
      "source": [
        "Scatter plot shows the amount of people mobilized per every birth year"
      ],
      "metadata": {
        "id": "a-h40hTI4r-V"
      }
    },
    {
      "cell_type": "code",
      "source": [
        "plt.scatter(year_counts.index, year_counts.values)\n",
        "plt.xlabel('Birth year')\n",
        "plt.ylabel('Total people')"
      ],
      "metadata": {
        "colab": {
          "base_uri": "https://localhost:8080/",
          "height": 296
        },
        "id": "DZmjHZKDvlpS",
        "outputId": "188a80a1-e8c9-4d6d-ede0-1387724a87f9"
      },
      "execution_count": 119,
      "outputs": [
        {
          "output_type": "execute_result",
          "data": {
            "text/plain": [
              "Text(0, 0.5, 'Total people')"
            ]
          },
          "metadata": {},
          "execution_count": 119
        },
        {
          "output_type": "display_data",
          "data": {
            "text/plain": [
              "<Figure size 432x288 with 1 Axes>"
            ],
            "image/png": "[encoded data removed]"
          },
          "metadata": {
            "needs_background": "light"
          }
        }
      ]
    },
    {
      "cell_type": "markdown",
      "source": [
        "Filtering out cities out of address"
      ],
      "metadata": {
        "id": "HARhgF9q5MCJ"
      }
    },
    {
      "cell_type": "code",
      "source": [
        "df['city'] = df['АДРЕС'].apply(lambda x: x.split(', ')[0])"
      ],
      "metadata": {
        "id": "EyEmSQmNxH9L"
      },
      "execution_count": 103,
      "outputs": []
    },
    {
      "cell_type": "code",
      "source": [
        "city_counts = df['city'].value_counts()"
      ],
      "metadata": {
        "id": "lmsNXNqQxVwT"
      },
      "execution_count": 105,
      "outputs": []
    },
    {
      "cell_type": "markdown",
      "source": [
        "Amount of mobilized people from Saint-Petersburg (2nd lardest city)"
      ],
      "metadata": {
        "id": "cuvyYOxR5R-3"
      }
    },
    {
      "cell_type": "code",
      "source": [
        " df['city'].str.contains('САНКТ-ПЕТЕРБУРГ').sum()"
      ],
      "metadata": {
        "colab": {
          "base_uri": "https://localhost:8080/"
        },
        "id": "ZZOoNT_bxx_N",
        "outputId": "7dd5ae48-da2f-41c5-8130-f9e10204ea8f"
      },
      "execution_count": 110,
      "outputs": [
        {
          "output_type": "execute_result",
          "data": {
            "text/plain": [
              "75543"
            ]
          },
          "metadata": {},
          "execution_count": 110
        }
      ]
    },
    {
      "cell_type": "markdown",
      "source": [
        "Amount of mobilized people from Moscow"
      ],
      "metadata": {
        "id": "OlM-jVtK5YZh"
      }
    },
    {
      "cell_type": "code",
      "source": [
        " df['city'].str.contains('МОСКВА').sum()"
      ],
      "metadata": {
        "colab": {
          "base_uri": "https://localhost:8080/"
        },
        "id": "LNQp1xD-y2Fb",
        "outputId": "3e3ac094-9d4f-45b5-9921-e228a124572c"
      },
      "execution_count": 116,
      "outputs": [
        {
          "output_type": "execute_result",
          "data": {
            "text/plain": [
              "70529"
            ]
          },
          "metadata": {},
          "execution_count": 116
        }
      ]
    },
    {
      "cell_type": "markdown",
      "source": [
        "Oveall per-region non-filtered stats"
      ],
      "metadata": {
        "id": "rEPnJ68d5gDf"
      }
    },
    {
      "cell_type": "code",
      "source": [
        "city_counts.head(30) "
      ],
      "metadata": {
        "colab": {
          "base_uri": "https://localhost:8080/"
        },
        "id": "EEwviZ9XzC29",
        "outputId": "c41abfb7-2626-465c-a566-36409d643e36"
      },
      "execution_count": 117,
      "outputs": [
        {
          "output_type": "execute_result",
          "data": {
            "text/plain": [
              "Г. САНКТ-ПЕТЕРБУРГ                                 73563\n",
              "Г. МОСКВА                                          66710\n",
              "КРАЙ АЛТАЙСКИЙ                                     22285\n",
              "ОБЛ. НИЖЕГОРОДСКАЯ                                 20319\n",
              "КРАЙ КРАСНОДАРСКИЙ                                 19895\n",
              "РЕСП. УДМУРТСКАЯ                                   16550\n",
              "КРАЙ СТАВРОПОЛЬСКИЙ                                12833\n",
              "ОБЛ. АМУРСКАЯ                                       8445\n",
              "ОБЛ. КУРГАНСКАЯ                                     7860\n",
              "ОБЛ. ТЮМЕНСКАЯ                                      5972\n",
              "РЕСП. ТАТАРСТАН                                     5073\n",
              "ОБЛ. ЛЕНИНГРАДСКАЯ                                  3779\n",
              "МОСКВА                                              3151\n",
              "РЕСП. КРЫМ                                          3080\n",
              "ОБЛ. СВЕРДЛОВСКАЯ                                   3015\n",
              "ОБЛ. КЕМЕРОВСКАЯ ОБЛАСТЬ - КУЗБАСС                  3006\n",
              "ОБЛ. ТОМСКАЯ                                        2719\n",
              "ОБЛ. НОВОСИБИРСКАЯ                                  1918\n",
              "ОБЛ. ВОЛГОГРАДСКАЯ                                  1532\n",
              "КРАЙ КРАСНОЯРСКИЙ                                   1311\n",
              "САНКТ-ПЕТЕРБУРГ                                     1145\n",
              "ОБЛ. МОСКОВСКАЯ                                     1063\n",
              "КРАЙ ПРИМОРСКИЙ                                     1005\n",
              "ОБЛ. ИРКУТСКАЯ                                       740\n",
              "ОБЛ. РОСТОВСКАЯ                                      703\n",
              "ОБЛ. АСТРАХАНСКАЯ                                    665\n",
              "А.ОКР. НЕНЕЦКИЙ                                      546\n",
              "РЕСП. КОМИ                                           538\n",
              "А.ОКР. ХАНТЫ-МАНСИЙСКИЙ АВТОНОМНЫЙ ОКРУГ - ЮГРА      518\n",
              "КРАЙ ПЕРМСКИЙ                                        511\n",
              "Name: city, dtype: int64"
            ]
          },
          "metadata": {},
          "execution_count": 117
        }
      ]
    }
  ]
}